{
 "cells": [
  {
   "cell_type": "markdown",
   "id": "610a5a2e",
   "metadata": {},
   "source": [
    "[![Open In Studio Lab](https://studiolab.sagemaker.aws/studiolab.svg)](https://studiolab.sagemaker.aws/import/github/aws-samples/aws-machine-learning-university-accelerated-tab/blob/master/MLU-MAIN.ipynb)"
   ]
  },
  {
   "cell_type": "markdown",
   "id": "42951fd3",
   "metadata": {},
   "source": [
    "![MLU Logo](data/MLU_Logo.png)"
   ]
  },
  {
   "cell_type": "markdown",
   "id": "ab8947dc",
   "metadata": {},
   "source": [
    "# Machine Learning University\n",
    "Welcome to the GitHub page of __Machine Learning University (MLU)__. Our mission is to make machine learning accessible to anyone, anywhere, anytime. We have courses available across many sub-domains of machine learning.\n",
    "## Getting Started\n",
    "There are just two steps to start your deep learning journey!\n",
    "### Step 1: Start Instance\n",
    "\n",
    "Choose `CPU` or `GPU` and click `Start instance`.\n",
    "First-time users without GPU experience\n",
    "are recommended to start with `CPU`.\n",
    "\n",
    "### Step 2: Copy to Project\n",
    "\n",
    "Click `Copy to project` and install the environment file (.yml).\n",
    "\n",
    "## Course List\n",
    "Learners have access to jupyter notebooks, slides and accompanying video lectures. See the MLU course list below.\n",
    "* ### [Natural Language Processing](https://github.com/aws-samples/aws-machine-learning-university-accelerated-nlp) [![Open In Studio Lab](https://studiolab.sagemaker.aws/studiolab.svg)](https://studiolab.sagemaker.aws/import/github/aws-samples/aws-machine-learning-university-accelerated-nlp/blob/master/notebooks/MLA-NLP-Lecture1-Text-Process.ipynb)\n",
    "This course is designed to help you get started with Natural Language Processing (NLP) and learn how to use NLP in various use cases. You can view the [GitHub](https://github.com/aws-samples/aws-machine-learning-university-accelerated-nlp) repository of this class for more details.\n",
    "* ### [Tabular Data](https://github.com/aws-samples/aws-machine-learning-university-accelerated-tab) [![Open In Studio Lab](https://studiolab.sagemaker.aws/studiolab.svg)](https://studiolab.sagemaker.aws/import/github/aws-samples/aws-machine-learning-university-accelerated-tab/blob/master/MLU-MAIN.ipynb)\n",
    "Learn how to get started with tabular data (spreadsheet-like data) and the widely used machine learning techniques to manipulate tabular data. See the [GitHub](https://github.com/aws-samples/aws-machine-learning-university-accelerated-tab) page for more info and hands-on notebooks.\n",
    "* ### [Computer Vision](https://github.com/aws-samples/aws-machine-learning-university-accelerated-cv) [![Open In Studio Lab](https://studiolab.sagemaker.aws/studiolab.svg)](https://studiolab.sagemaker.aws/import/github/aws-samples/aws-machine-learning-university-accelerated-cv/blob/master/notebooks/MLA-CV-DAY1-NN.ipynb)\n",
    "Through this course, you will gain the necessary skills to get started with computer vision and use it in practical problems. See the [GitHub](https://github.com/aws-samples/aws-machine-learning-university-accelerated-cv) page for more info.\n",
    "* ### [Decision Trees and Ensemble Methods](https://github.com/aws-samples/aws-machine-learning-university-dte) [![Open In Studio Lab](https://studiolab.sagemaker.aws/studiolab.svg)](https://studiolab.sagemaker.aws/import/github/aws-samples/aws-machine-learning-university-dte/blob/main/notebooks/lecture_1/DTE-LECTURE-1-PRUNE.ipynb)\n",
    "Get started with tree-based and ensemble models in this class. Visit the [GitHub](https://github.com/aws-samples/aws-machine-learning-university-dte) page to start learning."
   ]
  }
 ],
 "metadata": {
  "kernelspec": {
   "display_name": "conda_python3",
   "language": "python",
   "name": "conda_python3"
  },
  "language_info": {
   "codemirror_mode": {
    "name": "ipython",
    "version": 3
   },
   "file_extension": ".py",
   "mimetype": "text/x-python",
   "name": "python",
   "nbconvert_exporter": "python",
   "pygments_lexer": "ipython3",
   "version": "3.6.13"
  }
 },
 "nbformat": 4,
 "nbformat_minor": 5
}
